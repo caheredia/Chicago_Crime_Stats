{
 "cells": [
  {
   "cell_type": "code",
   "execution_count": 1,
   "metadata": {
    "collapsed": true
   },
   "outputs": [],
   "source": [
    "import matplotlib.pyplot as plt\n",
    "import seaborn as sns\n",
    "%matplotlib inline\n",
    "from jupyterworkflow.data import get_url_data\n",
    "import pandas as pd\n",
    "from sklearn import preprocessing \n",
    "\n",
    "import numpy as np"
   ]
  },
  {
   "cell_type": "markdown",
   "metadata": {},
   "source": [
    "# Load data"
   ]
  },
  {
   "cell_type": "code",
   "execution_count": 2,
   "metadata": {},
   "outputs": [
    {
     "name": "stdout",
     "output_type": "stream",
     "text": [
      "...loading csv\n",
      "CPU times: user 23.2 s, sys: 1.7 s, total: 24.9 s\n",
      "Wall time: 26.7 s\n"
     ]
    }
   ],
   "source": [
    "%%time\n",
    "data = get_url_data()"
   ]
  },
  {
   "cell_type": "code",
   "execution_count": 3,
   "metadata": {},
   "outputs": [
    {
     "data": {
      "text/html": [
       "<div>\n",
       "<style scoped>\n",
       "    .dataframe tbody tr th:only-of-type {\n",
       "        vertical-align: middle;\n",
       "    }\n",
       "\n",
       "    .dataframe tbody tr th {\n",
       "        vertical-align: top;\n",
       "    }\n",
       "\n",
       "    .dataframe thead th {\n",
       "        text-align: right;\n",
       "    }\n",
       "</style>\n",
       "<table border=\"1\" class=\"dataframe\">\n",
       "  <thead>\n",
       "    <tr style=\"text-align: right;\">\n",
       "      <th></th>\n",
       "      <th>DR Number</th>\n",
       "      <th>Date Reported</th>\n",
       "      <th>Date Occurred</th>\n",
       "      <th>Time Occurred</th>\n",
       "      <th>Area ID</th>\n",
       "      <th>Area Name</th>\n",
       "      <th>Reporting District</th>\n",
       "      <th>Crime Code</th>\n",
       "      <th>Crime Code Description</th>\n",
       "      <th>MO Codes</th>\n",
       "      <th>...</th>\n",
       "      <th>Weapon Description</th>\n",
       "      <th>Status Code</th>\n",
       "      <th>Status Description</th>\n",
       "      <th>Crime Code 1</th>\n",
       "      <th>Crime Code 2</th>\n",
       "      <th>Crime Code 3</th>\n",
       "      <th>Crime Code 4</th>\n",
       "      <th>Address</th>\n",
       "      <th>Cross Street</th>\n",
       "      <th>Location</th>\n",
       "    </tr>\n",
       "    <tr>\n",
       "      <th>Date</th>\n",
       "      <th></th>\n",
       "      <th></th>\n",
       "      <th></th>\n",
       "      <th></th>\n",
       "      <th></th>\n",
       "      <th></th>\n",
       "      <th></th>\n",
       "      <th></th>\n",
       "      <th></th>\n",
       "      <th></th>\n",
       "      <th></th>\n",
       "      <th></th>\n",
       "      <th></th>\n",
       "      <th></th>\n",
       "      <th></th>\n",
       "      <th></th>\n",
       "      <th></th>\n",
       "      <th></th>\n",
       "      <th></th>\n",
       "      <th></th>\n",
       "      <th></th>\n",
       "    </tr>\n",
       "  </thead>\n",
       "  <tbody>\n",
       "    <tr>\n",
       "      <th>2013-03-14 18:00:00</th>\n",
       "      <td>1208575</td>\n",
       "      <td>03/14/2013</td>\n",
       "      <td>03/11/2013</td>\n",
       "      <td>1800</td>\n",
       "      <td>12</td>\n",
       "      <td>77th Street</td>\n",
       "      <td>1241</td>\n",
       "      <td>626</td>\n",
       "      <td>INTIMATE PARTNER - SIMPLE ASSAULT</td>\n",
       "      <td>0416 0446 1243 2000</td>\n",
       "      <td>...</td>\n",
       "      <td>STRONG-ARM (HANDS, FIST, FEET OR BODILY FORCE)</td>\n",
       "      <td>AO</td>\n",
       "      <td>Adult Other</td>\n",
       "      <td>626.0</td>\n",
       "      <td>NaN</td>\n",
       "      <td>NaN</td>\n",
       "      <td>NaN</td>\n",
       "      <td>6300    BRYNHURST                    AV</td>\n",
       "      <td>NaN</td>\n",
       "      <td>(33.9829, -118.3338)</td>\n",
       "    </tr>\n",
       "    <tr>\n",
       "      <th>2010-01-25 23:00:00</th>\n",
       "      <td>102005556</td>\n",
       "      <td>01/25/2010</td>\n",
       "      <td>01/22/2010</td>\n",
       "      <td>2300</td>\n",
       "      <td>20</td>\n",
       "      <td>Olympic</td>\n",
       "      <td>2071</td>\n",
       "      <td>510</td>\n",
       "      <td>VEHICLE - STOLEN</td>\n",
       "      <td>NaN</td>\n",
       "      <td>...</td>\n",
       "      <td>NaN</td>\n",
       "      <td>IC</td>\n",
       "      <td>Invest Cont</td>\n",
       "      <td>510.0</td>\n",
       "      <td>NaN</td>\n",
       "      <td>NaN</td>\n",
       "      <td>NaN</td>\n",
       "      <td>VAN NESS</td>\n",
       "      <td>15TH</td>\n",
       "      <td>(34.0454, -118.3157)</td>\n",
       "    </tr>\n",
       "    <tr>\n",
       "      <th>2013-03-19 20:30:00</th>\n",
       "      <td>418</td>\n",
       "      <td>03/19/2013</td>\n",
       "      <td>03/18/2013</td>\n",
       "      <td>2030</td>\n",
       "      <td>18</td>\n",
       "      <td>Southeast</td>\n",
       "      <td>1823</td>\n",
       "      <td>510</td>\n",
       "      <td>VEHICLE - STOLEN</td>\n",
       "      <td>NaN</td>\n",
       "      <td>...</td>\n",
       "      <td>NaN</td>\n",
       "      <td>IC</td>\n",
       "      <td>Invest Cont</td>\n",
       "      <td>510.0</td>\n",
       "      <td>NaN</td>\n",
       "      <td>NaN</td>\n",
       "      <td>NaN</td>\n",
       "      <td>200 E  104TH                        ST</td>\n",
       "      <td>NaN</td>\n",
       "      <td>(33.942, -118.2717)</td>\n",
       "    </tr>\n",
       "    <tr>\n",
       "      <th>2010-11-11 18:00:00</th>\n",
       "      <td>101822289</td>\n",
       "      <td>11/11/2010</td>\n",
       "      <td>11/10/2010</td>\n",
       "      <td>1800</td>\n",
       "      <td>18</td>\n",
       "      <td>Southeast</td>\n",
       "      <td>1803</td>\n",
       "      <td>510</td>\n",
       "      <td>VEHICLE - STOLEN</td>\n",
       "      <td>NaN</td>\n",
       "      <td>...</td>\n",
       "      <td>NaN</td>\n",
       "      <td>IC</td>\n",
       "      <td>Invest Cont</td>\n",
       "      <td>510.0</td>\n",
       "      <td>NaN</td>\n",
       "      <td>NaN</td>\n",
       "      <td>NaN</td>\n",
       "      <td>88TH</td>\n",
       "      <td>WALL</td>\n",
       "      <td>(33.9572, -118.2717)</td>\n",
       "    </tr>\n",
       "    <tr>\n",
       "      <th>2014-01-11 23:00:00</th>\n",
       "      <td>42104479</td>\n",
       "      <td>01/11/2014</td>\n",
       "      <td>01/04/2014</td>\n",
       "      <td>2300</td>\n",
       "      <td>21</td>\n",
       "      <td>Topanga</td>\n",
       "      <td>2133</td>\n",
       "      <td>745</td>\n",
       "      <td>VANDALISM - MISDEAMEANOR ($399 OR UNDER)</td>\n",
       "      <td>0329</td>\n",
       "      <td>...</td>\n",
       "      <td>NaN</td>\n",
       "      <td>IC</td>\n",
       "      <td>Invest Cont</td>\n",
       "      <td>745.0</td>\n",
       "      <td>NaN</td>\n",
       "      <td>NaN</td>\n",
       "      <td>NaN</td>\n",
       "      <td>7200    CIRRUS                       WY</td>\n",
       "      <td>NaN</td>\n",
       "      <td>(34.2009, -118.6369)</td>\n",
       "    </tr>\n",
       "  </tbody>\n",
       "</table>\n",
       "<p>5 rows × 26 columns</p>\n",
       "</div>"
      ],
      "text/plain": [
       "                     DR Number Date Reported Date Occurred Time Occurred  \\\n",
       "Date                                                                       \n",
       "2013-03-14 18:00:00    1208575    03/14/2013    03/11/2013          1800   \n",
       "2010-01-25 23:00:00  102005556    01/25/2010    01/22/2010          2300   \n",
       "2013-03-19 20:30:00        418    03/19/2013    03/18/2013          2030   \n",
       "2010-11-11 18:00:00  101822289    11/11/2010    11/10/2010          1800   \n",
       "2014-01-11 23:00:00   42104479    01/11/2014    01/04/2014          2300   \n",
       "\n",
       "                     Area ID    Area Name  Reporting District  Crime Code  \\\n",
       "Date                                                                        \n",
       "2013-03-14 18:00:00       12  77th Street                1241         626   \n",
       "2010-01-25 23:00:00       20      Olympic                2071         510   \n",
       "2013-03-19 20:30:00       18    Southeast                1823         510   \n",
       "2010-11-11 18:00:00       18    Southeast                1803         510   \n",
       "2014-01-11 23:00:00       21      Topanga                2133         745   \n",
       "\n",
       "                                       Crime Code Description  \\\n",
       "Date                                                            \n",
       "2013-03-14 18:00:00         INTIMATE PARTNER - SIMPLE ASSAULT   \n",
       "2010-01-25 23:00:00                          VEHICLE - STOLEN   \n",
       "2013-03-19 20:30:00                          VEHICLE - STOLEN   \n",
       "2010-11-11 18:00:00                          VEHICLE - STOLEN   \n",
       "2014-01-11 23:00:00  VANDALISM - MISDEAMEANOR ($399 OR UNDER)   \n",
       "\n",
       "                                MO Codes          ...           \\\n",
       "Date                                              ...            \n",
       "2013-03-14 18:00:00  0416 0446 1243 2000          ...            \n",
       "2010-01-25 23:00:00                  NaN          ...            \n",
       "2013-03-19 20:30:00                  NaN          ...            \n",
       "2010-11-11 18:00:00                  NaN          ...            \n",
       "2014-01-11 23:00:00                 0329          ...            \n",
       "\n",
       "                                                 Weapon Description  \\\n",
       "Date                                                                  \n",
       "2013-03-14 18:00:00  STRONG-ARM (HANDS, FIST, FEET OR BODILY FORCE)   \n",
       "2010-01-25 23:00:00                                             NaN   \n",
       "2013-03-19 20:30:00                                             NaN   \n",
       "2010-11-11 18:00:00                                             NaN   \n",
       "2014-01-11 23:00:00                                             NaN   \n",
       "\n",
       "                    Status Code Status Description  Crime Code 1 Crime Code 2  \\\n",
       "Date                                                                            \n",
       "2013-03-14 18:00:00          AO        Adult Other         626.0          NaN   \n",
       "2010-01-25 23:00:00          IC        Invest Cont         510.0          NaN   \n",
       "2013-03-19 20:30:00          IC        Invest Cont         510.0          NaN   \n",
       "2010-11-11 18:00:00          IC        Invest Cont         510.0          NaN   \n",
       "2014-01-11 23:00:00          IC        Invest Cont         745.0          NaN   \n",
       "\n",
       "                     Crime Code 3 Crime Code 4  \\\n",
       "Date                                             \n",
       "2013-03-14 18:00:00           NaN          NaN   \n",
       "2010-01-25 23:00:00           NaN          NaN   \n",
       "2013-03-19 20:30:00           NaN          NaN   \n",
       "2010-11-11 18:00:00           NaN          NaN   \n",
       "2014-01-11 23:00:00           NaN          NaN   \n",
       "\n",
       "                                                     Address Cross Street  \\\n",
       "Date                                                                        \n",
       "2013-03-14 18:00:00  6300    BRYNHURST                    AV          NaN   \n",
       "2010-01-25 23:00:00                                 VAN NESS         15TH   \n",
       "2013-03-19 20:30:00   200 E  104TH                        ST          NaN   \n",
       "2010-11-11 18:00:00                                     88TH         WALL   \n",
       "2014-01-11 23:00:00  7200    CIRRUS                       WY          NaN   \n",
       "\n",
       "                                Location   \n",
       "Date                                       \n",
       "2013-03-14 18:00:00  (33.9829, -118.3338)  \n",
       "2010-01-25 23:00:00  (34.0454, -118.3157)  \n",
       "2013-03-19 20:30:00   (33.942, -118.2717)  \n",
       "2010-11-11 18:00:00  (33.9572, -118.2717)  \n",
       "2014-01-11 23:00:00  (34.2009, -118.6369)  \n",
       "\n",
       "[5 rows x 26 columns]"
      ]
     },
     "execution_count": 3,
     "metadata": {},
     "output_type": "execute_result"
    }
   ],
   "source": [
    "data.head()"
   ]
  },
  {
   "cell_type": "code",
   "execution_count": 7,
   "metadata": {},
   "outputs": [
    {
     "data": {
      "text/html": [
       "<div>\n",
       "<style scoped>\n",
       "    .dataframe tbody tr th:only-of-type {\n",
       "        vertical-align: middle;\n",
       "    }\n",
       "\n",
       "    .dataframe tbody tr th {\n",
       "        vertical-align: top;\n",
       "    }\n",
       "\n",
       "    .dataframe thead th {\n",
       "        text-align: right;\n",
       "    }\n",
       "</style>\n",
       "<table border=\"1\" class=\"dataframe\">\n",
       "  <thead>\n",
       "    <tr style=\"text-align: right;\">\n",
       "      <th></th>\n",
       "      <th>count</th>\n",
       "    </tr>\n",
       "    <tr>\n",
       "      <th>Date</th>\n",
       "      <th></th>\n",
       "    </tr>\n",
       "  </thead>\n",
       "  <tbody>\n",
       "    <tr>\n",
       "      <th>2010-01-01 10:00:00</th>\n",
       "      <td>3</td>\n",
       "    </tr>\n",
       "    <tr>\n",
       "      <th>2010-01-01 10:30:00</th>\n",
       "      <td>1</td>\n",
       "    </tr>\n",
       "    <tr>\n",
       "      <th>2010-01-01 10:50:00</th>\n",
       "      <td>1</td>\n",
       "    </tr>\n",
       "    <tr>\n",
       "      <th>2010-01-01 11:00:00</th>\n",
       "      <td>3</td>\n",
       "    </tr>\n",
       "    <tr>\n",
       "      <th>2010-01-01 11:15:00</th>\n",
       "      <td>1</td>\n",
       "    </tr>\n",
       "  </tbody>\n",
       "</table>\n",
       "</div>"
      ],
      "text/plain": [
       "                     count\n",
       "Date                      \n",
       "2010-01-01 10:00:00      3\n",
       "2010-01-01 10:30:00      1\n",
       "2010-01-01 10:50:00      1\n",
       "2010-01-01 11:00:00      3\n",
       "2010-01-01 11:15:00      1"
      ]
     },
     "execution_count": 7,
     "metadata": {},
     "output_type": "execute_result"
    }
   ],
   "source": [
    "# generate counts for timestamps \n",
    "data_time = data['Time Occurred'].groupby('Date').agg([ 'count'])\n",
    "data_time.head()"
   ]
  },
  {
   "cell_type": "code",
   "execution_count": 38,
   "metadata": {},
   "outputs": [
    {
     "data": {
      "image/png": "[encoded data removed]",
      "text/plain": [
       "<matplotlib.figure.Figure at 0x1239742e8>"
      ]
     },
     "metadata": {},
     "output_type": "display_data"
    }
   ],
   "source": [
    "fig, ax = plt.subplots(1, 1, figsize=(12,6))\n",
    "title = 'Monthly crime reports'\n",
    "data_time[data_time.index<='2018-09-01'].resample('M').sum().plot(ax=ax, legend=None, title = title );\n",
    "plt.ylim(0,None)\n",
    "plt.xlabel('');"
   ]
  },
  {
   "cell_type": "code",
   "execution_count": null,
   "metadata": {},
   "outputs": [],
   "source": [
    "# Number of companies complained about\n",
    "companies = data['Company'].value_counts()\n",
    "print('Number of Companies compained about: {}'.format(len(companies)))"
   ]
  },
  {
   "cell_type": "code",
   "execution_count": null,
   "metadata": {},
   "outputs": [],
   "source": [
    "# Top 20 complained against companies\n",
    "top_20 = data['Company'].value_counts()[0:20]\n",
    "top_20[::-1].plot(kind='barh');"
   ]
  },
  {
   "cell_type": "markdown",
   "metadata": {},
   "source": [
    "## plot data\n",
    "\n",
    "https://www.consumer.ftc.gov/blog/2017/09/equifax-data-breach-what-do"
   ]
  },
  {
   "cell_type": "code",
   "execution_count": null,
   "metadata": {},
   "outputs": [],
   "source": [
    "data['Company'].groupby([data.index]).agg([ 'count']).resample('W').sum().plot();"
   ]
  },
  {
   "cell_type": "code",
   "execution_count": null,
   "metadata": {},
   "outputs": [],
   "source": [
    "data.groupby(['Date received', 'State'])['Company'].agg([ 'count']).pivot_table('count', index = 'Date received', columns='State', fill_value=0).sum().sort_values(ascending=False)"
   ]
  },
  {
   "cell_type": "code",
   "execution_count": null,
   "metadata": {},
   "outputs": [],
   "source": [
    "data.groupby(['Date received', 'State'])['Company'].agg(['count']).pivot_table(\n",
    "    'count', index='Date received', columns='State', fill_value=0).resample('M').sum().plot(y=['CA', 'FL','TX','NY','IL'], legend=False);"
   ]
  },
  {
   "cell_type": "code",
   "execution_count": null,
   "metadata": {
    "collapsed": true
   },
   "outputs": [],
   "source": [
    "ax = data.resample('D').sum().rolling(365).sum().plot()\n",
    "ax.set_ylim(0,None);"
   ]
  },
  {
   "cell_type": "code",
   "execution_count": null,
   "metadata": {
    "collapsed": true
   },
   "outputs": [],
   "source": [
    "data.groupby(data.index.time).mean().plot();"
   ]
  },
  {
   "cell_type": "code",
   "execution_count": null,
   "metadata": {
    "collapsed": true
   },
   "outputs": [],
   "source": [
    "# This can also be done as day of week in index and different weeks for columns\n",
    "\n",
    "# this is hour in the index and days in the columns, gives the traffic flow for each hour of the day \n",
    "pivoted_table = data.pivot_table('Total', index = data.index.time, columns = data.index.date)\n",
    "pivoted_table.head()"
   ]
  },
  {
   "cell_type": "code",
   "execution_count": null,
   "metadata": {
    "collapsed": true
   },
   "outputs": [],
   "source": [
    "pivoted_table.plot(legend = False, alpha = 0.01)"
   ]
  },
  {
   "cell_type": "markdown",
   "metadata": {},
   "source": [
    " # Refactored code"
   ]
  },
  {
   "cell_type": "code",
   "execution_count": null,
   "metadata": {
    "collapsed": true
   },
   "outputs": [],
   "source": [
    "data = get_fremont_data()\n",
    "pivoted = data.pivot_table('Total', index=data.index.time, columns=data.index.date)"
   ]
  },
  {
   "cell_type": "code",
   "execution_count": null,
   "metadata": {
    "collapsed": true
   },
   "outputs": [],
   "source": [
    "pivoted.plot(legend=False, alpha = 0.1);"
   ]
  },
  {
   "cell_type": "code",
   "execution_count": null,
   "metadata": {
    "collapsed": true
   },
   "outputs": [],
   "source": [
    "pivoted.T.shape\n",
    "# this yields 2097 observations for hour of the day "
   ]
  },
  {
   "cell_type": "code",
   "execution_count": null,
   "metadata": {
    "collapsed": true
   },
   "outputs": [],
   "source": [
    "from sklearn.decomposition import PCA\n",
    "PCA(2)"
   ]
  },
  {
   "cell_type": "code",
   "execution_count": null,
   "metadata": {
    "collapsed": true
   },
   "outputs": [],
   "source": [
    "X = pivoted.fillna(0).T.values"
   ]
  },
  {
   "cell_type": "code",
   "execution_count": null,
   "metadata": {
    "collapsed": true
   },
   "outputs": [],
   "source": [
    "X.shape"
   ]
  },
  {
   "cell_type": "code",
   "execution_count": null,
   "metadata": {
    "collapsed": true
   },
   "outputs": [],
   "source": [
    "X2 = PCA(2, svd_solver='full').fit_transform(X)"
   ]
  },
  {
   "cell_type": "code",
   "execution_count": null,
   "metadata": {
    "collapsed": true
   },
   "outputs": [],
   "source": [
    "import sklearn\n",
    "sklearn.__version__"
   ]
  },
  {
   "cell_type": "code",
   "execution_count": null,
   "metadata": {
    "collapsed": true
   },
   "outputs": [],
   "source": [
    "plt.scatter(X2[:, 0], X2[:, 1]);"
   ]
  },
  {
   "cell_type": "code",
   "execution_count": null,
   "metadata": {
    "collapsed": true
   },
   "outputs": [],
   "source": [
    "from sklearn.mixture import GaussianMixture\n",
    "gmm = GaussianMixture(2)\n",
    "gmm.fit(X)\n",
    "labels = gmm.predict(X)\n",
    "labels"
   ]
  },
  {
   "cell_type": "code",
   "execution_count": null,
   "metadata": {
    "collapsed": true
   },
   "outputs": [],
   "source": [
    "plt.scatter(X2[:, 0], X2[:, 1], c = labels, cmap='rainbow');\n",
    "plt.colorbar()"
   ]
  },
  {
   "cell_type": "code",
   "execution_count": null,
   "metadata": {
    "collapsed": true
   },
   "outputs": [],
   "source": [
    "len(labels)"
   ]
  },
  {
   "cell_type": "code",
   "execution_count": null,
   "metadata": {
    "collapsed": true
   },
   "outputs": [],
   "source": [
    "# filters the columns with labels of array of 0s and 1s\n",
    "pivoted.T[labels==0].T.plot(legend=False, alpha = 0.1);"
   ]
  },
  {
   "cell_type": "code",
   "execution_count": null,
   "metadata": {
    "collapsed": true
   },
   "outputs": [],
   "source": [
    "pivoted.T[labels==1].T.plot(legend=False, alpha = 0.1);"
   ]
  },
  {
   "cell_type": "code",
   "execution_count": null,
   "metadata": {
    "collapsed": true
   },
   "outputs": [],
   "source": [
    "# want to see what day of week these graphs represnent \n",
    "pivoted.columns"
   ]
  },
  {
   "cell_type": "code",
   "execution_count": null,
   "metadata": {
    "collapsed": true
   },
   "outputs": [],
   "source": [
    "pd.DatetimeIndex(pivoted.columns).dayofweek"
   ]
  },
  {
   "cell_type": "code",
   "execution_count": null,
   "metadata": {
    "collapsed": true
   },
   "outputs": [],
   "source": [
    "day_of_week = pd.DatetimeIndex(pivoted.columns).dayofweek"
   ]
  },
  {
   "cell_type": "code",
   "execution_count": null,
   "metadata": {
    "collapsed": true
   },
   "outputs": [],
   "source": [
    "plt.scatter(X2[:, 0], X2[:, 1], c = day_of_week, cmap='rainbow');\n",
    "plt.colorbar();"
   ]
  },
  {
   "cell_type": "code",
   "execution_count": null,
   "metadata": {
    "collapsed": true
   },
   "outputs": [],
   "source": [
    "dates = pd.DatetimeIndex(pivoted.columns)\n",
    "dates[(labels == 1) & (dates.dayofweek<5)]"
   ]
  },
  {
   "cell_type": "markdown",
   "metadata": {},
   "source": [
    "# Look at blog post on this analysis as well"
   ]
  },
  {
   "cell_type": "markdown",
   "metadata": {
    "collapsed": true
   },
   "source": [
    "# Can look at days with smallest granularity and week as columns in dataframe. "
   ]
  },
  {
   "cell_type": "markdown",
   "metadata": {},
   "source": [
    "# Full PCA analysis, solving for multiples axes, up to 7 for 7 days of the week \n",
    "\n",
    "can solve for the smallest number between observations or variables "
   ]
  },
  {
   "cell_type": "code",
   "execution_count": null,
   "metadata": {
    "collapsed": true
   },
   "outputs": [],
   "source": [
    "# create PCA object\n",
    "pca= PCA()"
   ]
  },
  {
   "cell_type": "code",
   "execution_count": null,
   "metadata": {
    "collapsed": true
   },
   "outputs": [],
   "source": [
    "# need to center and scale the data \n",
    "# the data also needs to be transposed. The columns or varibales become the rows for PCA loading scores\n",
    "# only scale data if it's not on the same scale \n",
    "# https://stats.stackexchange.com/questions/105592/not-normalizing-data-before-pca-gives-better-explained-variance-ratio#105649\n",
    "scaled_data = X"
   ]
  },
  {
   "cell_type": "code",
   "execution_count": null,
   "metadata": {
    "collapsed": true
   },
   "outputs": [],
   "source": [
    "# calculate loading scores and variation each principle compenent acount for \n",
    "pca.fit(scaled_data)"
   ]
  },
  {
   "cell_type": "code",
   "execution_count": null,
   "metadata": {
    "collapsed": true
   },
   "outputs": [],
   "source": [
    "# generate coordinates based on loading scores and scaled data\n",
    "pca_data = pca.transform(scaled_data)"
   ]
  },
  {
   "cell_type": "code",
   "execution_count": null,
   "metadata": {
    "collapsed": true
   },
   "outputs": [],
   "source": [
    "# scree plot\n",
    "# generate percentage that each PCA accounts for\n",
    "per_var = np.round(pca.explained_variance_ratio_*100, decimals=1)\n",
    "# generate labels for scree plot\n",
    "labels = ['PC' + str(num) for num in range(1, len(per_var) + 1)]"
   ]
  },
  {
   "cell_type": "code",
   "execution_count": null,
   "metadata": {
    "collapsed": true
   },
   "outputs": [],
   "source": [
    "plt.bar(left=range(1, len(per_var) + 1), height = per_var, tick_label=labels)\n",
    "plt.show()"
   ]
  },
  {
   "cell_type": "code",
   "execution_count": null,
   "metadata": {
    "collapsed": true
   },
   "outputs": [],
   "source": [
    "X.shape"
   ]
  },
  {
   "cell_type": "code",
   "execution_count": null,
   "metadata": {
    "collapsed": true
   },
   "outputs": [],
   "source": [
    "# generate df with pca coordinates, variables are presented as rows, thus the index should be variable names, the columns represent the different PCA axis \n",
    "pca_df = pd.DataFrame(pca_data, index = pivoted.T.index.values,columns=labels)"
   ]
  },
  {
   "cell_type": "code",
   "execution_count": null,
   "metadata": {
    "collapsed": true
   },
   "outputs": [],
   "source": [
    "pca_df.head()"
   ]
  },
  {
   "cell_type": "code",
   "execution_count": null,
   "metadata": {
    "collapsed": true
   },
   "outputs": [],
   "source": [
    "# plot pc1 versus pc2\n",
    "pca_df.plot(kind='scatter', x='PC1', y='PC2')\n",
    "plt.xlabel('PC1 - {}%'.format(per_var[0]))\n",
    "plt.ylabel('PC2 - {}%'.format(per_var[1]))\n",
    "\n",
    "# plot labels\n",
    "#for sample in pca_df.index:\n",
    " #   plt.annotate(sample, (pca_df['PC1'][sample]+.2,  pca_df['PC2'][sample]))"
   ]
  },
  {
   "cell_type": "code",
   "execution_count": null,
   "metadata": {
    "collapsed": true
   },
   "outputs": [],
   "source": [
    "# let's look at the loading score for PC1 to see which ones had the largest influence on separating the two clusters along the x axis\n",
    "# series object from loading scores in PC1\n",
    "# top 10 by absolute value, capturing index \n",
    "loading_scores = pd.DataFrame(pca.components_[0], index = pivoted.index.values)\n",
    "sorted_loading_scores = loading_scores.abs().sort_values( by = [0],ascending=False)\n",
    "top_ten_genes = sorted_loading_scores[0:10].index\n",
    "loading_scores[loading_scores.index.isin(top_ten_genes)].sort_values(by=0,ascending=False)"
   ]
  },
  {
   "cell_type": "code",
   "execution_count": null,
   "metadata": {
    "collapsed": true
   },
   "outputs": [],
   "source": [
    "day_of_week = pd.DatetimeIndex(pivoted.columns).dayofweek"
   ]
  },
  {
   "cell_type": "code",
   "execution_count": null,
   "metadata": {
    "collapsed": true
   },
   "outputs": [],
   "source": [
    "plt.scatter(pca_df['PC1'],pca_df['PC2'], c = day_of_week, cmap='rainbow');\n",
    "plt.colorbar();"
   ]
  },
  {
   "cell_type": "code",
   "execution_count": null,
   "metadata": {
    "collapsed": true
   },
   "outputs": [],
   "source": [
    "from sklearn.mixture import GaussianMixture\n",
    "gmm = GaussianMixture(2)\n",
    "gmm.fit(scaled_data)\n",
    "labels = gmm.predict(scaled_data)\n",
    "labels"
   ]
  },
  {
   "cell_type": "code",
   "execution_count": null,
   "metadata": {
    "collapsed": true
   },
   "outputs": [],
   "source": [
    "# filters the columns with labels of array of 0s and 1s\n",
    "pivoted.T[labels==1].T.plot(legend=False, alpha = 0.1);"
   ]
  },
  {
   "cell_type": "code",
   "execution_count": null,
   "metadata": {
    "collapsed": true
   },
   "outputs": [],
   "source": [
    "# Isolates weekdays\n",
    "pd.Series(pd.DatetimeIndex(pivoted.T[labels==1].index).strftime('%a')).value_counts().plot(kind='bar');"
   ]
  },
  {
   "cell_type": "code",
   "execution_count": null,
   "metadata": {
    "collapsed": true
   },
   "outputs": [],
   "source": [
    "# Sundays that behave like weekdays\n",
    "Sun_index  = pd.DatetimeIndex(pivoted.T[labels==0].index).strftime('%a')=='Sun'\n",
    "pd.DatetimeIndex(pivoted.T[labels==0].index)[Sun_index]"
   ]
  },
  {
   "cell_type": "code",
   "execution_count": null,
   "metadata": {
    "collapsed": true
   },
   "outputs": [],
   "source": [
    "# isolate weekends\n",
    "pd.Series(pd.DatetimeIndex(pivoted.T[labels==0].index).strftime('%a')).value_counts().plot(kind='bar');"
   ]
  },
  {
   "cell_type": "code",
   "execution_count": null,
   "metadata": {
    "collapsed": true
   },
   "outputs": [],
   "source": [
    "# Solve for Tue\n",
    "Tue_index  = pd.DatetimeIndex(pivoted.T[labels==1].index).strftime('%a')=='Tue'"
   ]
  },
  {
   "cell_type": "code",
   "execution_count": null,
   "metadata": {
    "collapsed": true
   },
   "outputs": [],
   "source": [
    "# All Tuesdays that behave like Weekends \n",
    "pd.DatetimeIndex(pivoted.T[labels==1].index)[Tue_index]"
   ]
  },
  {
   "cell_type": "markdown",
   "metadata": {},
   "source": [
    "# If days behave differently then subtract them break them out into separate analysis for predicting. "
   ]
  },
  {
   "cell_type": "code",
   "execution_count": null,
   "metadata": {
    "collapsed": true
   },
   "outputs": [],
   "source": []
  },
  {
   "cell_type": "code",
   "execution_count": null,
   "metadata": {
    "collapsed": true
   },
   "outputs": [],
   "source": []
  }
 ],
 "metadata": {
  "kernelspec": {
   "display_name": "Python 3",
   "language": "python",
   "name": "python3"
  },
  "language_info": {
   "codemirror_mode": {
    "name": "ipython",
    "version": 3
   },
   "file_extension": ".py",
   "mimetype": "text/x-python",
   "name": "python",
   "nbconvert_exporter": "python",
   "pygments_lexer": "ipython3",
   "version": "3.6.3"
  },
  "toc": {
   "nav_menu": {},
   "number_sections": true,
   "sideBar": true,
   "skip_h1_title": false,
   "toc_cell": false,
   "toc_position": {},
   "toc_section_display": "block",
   "toc_window_display": false
  }
 },
 "nbformat": 4,
 "nbformat_minor": 2
}
